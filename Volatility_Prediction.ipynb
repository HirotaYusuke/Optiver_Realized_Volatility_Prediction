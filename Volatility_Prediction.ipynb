{
 "cells": [
  {
   "cell_type": "code",
   "execution_count": 6,
   "source": [
    "%matplotlib inline\n",
    "import pyarrow.parquet as pq\n",
    "import numpy as np\n",
    "import pandas as pd\n",
    "import pandas_profiling\n",
    "import matplotlib.pyplot as plt"
   ],
   "outputs": [],
   "metadata": {}
  },
  {
   "cell_type": "markdown",
   "source": [
    "# book_train.parquet, book_test.parquet\n",
    "### 市場に投入された最も競争力のある売買注文に関するおーだブックデータ\n",
    "### データの詳細は\n",
    "### https://docs.google.com/document/d/16-TzzVW-jQCzK-OKX7UrjH98ahqImFPI-9glhLVUrmM/edit\n",
    "\n",
    "# trada_train.parquet, trade_test.parquet\n",
    "### 実際に行われた取引に関するデータ\n",
    "### データの詳細は\n",
    "### https://docs.google.com/document/d/16-TzzVW-jQCzK-OKX7UrjH98ahqImFPI-9glhLVUrmM/edit"
   ],
   "metadata": {}
  },
  {
   "cell_type": "code",
   "execution_count": 3,
   "source": [
    "\"\"\" \n",
    "book_train = pq.read_pandas('data/book_train.parquet').to_pandas()\n",
    "book_test = pq.read_pandas('data/book_test.parquet').to_pandas()\n",
    "table_train = pq.read_pandas('data/trade_train.parquet').to_pandas()\n",
    "table_test = pq.read_pandas('data/trade_test.parquet').to_pandas()\n",
    "\"\"\""
   ],
   "outputs": [],
   "metadata": {}
  },
  {
   "cell_type": "code",
   "execution_count": null,
   "source": [
    "\"\"\"\n",
    "train = pd.read_csv('data/train.csv')\n",
    "test = pd.read_csv('data/test.csv')\n",
    "\"\"\"\n"
   ],
   "outputs": [],
   "metadata": {}
  },
  {
   "cell_type": "code",
   "execution_count": 7,
   "source": [
    "train_test_dtypes = {\n",
    "    'stock_id': np.uint8,\n",
    "    'time_id': np.uint16,\n",
    "    'target': np.float64\n",
    "}\n",
    "\n",
    "df_train = pd.read_csv('data/train.csv', dtype=train_test_dtypes)\n",
    "df_test = pd.read_csv('data/test.csv', usecols=['stock_id', 'time_id'], dtype=train_test_dtypes)\n",
    "\n",
    "print(f'Training Set Shape: {df_train.shape}')\n",
    "print(f'Training Set Memory Usage: {df_train.memory_usage().sum() / 1024 ** 2:.2f} MB')\n",
    "print(f'Test Set Shape: {df_test.shape}')\n",
    "print(f'Test Set Memory Usage: {df_test.memory_usage().sum() / 1024 ** 2:.2f} MB')"
   ],
   "outputs": [
    {
     "output_type": "stream",
     "name": "stdout",
     "text": [
      "Training Set Shape: (428932, 3)\n",
      "Training Set Memory Usage: 4.50 MB\n",
      "Test Set Shape: (3, 2)\n",
      "Test Set Memory Usage: 0.00 MB\n"
     ]
    }
   ],
   "metadata": {}
  },
  {
   "cell_type": "code",
   "execution_count": null,
   "source": [
    "def read_book_data(dataset, stock_id, sort=False, forward_fill=False):\n",
    "        \n",
    "    book_dtypes = {\n",
    "        'time_id': np.uint16,\n",
    "        'seconds_in_bucket': np.uint16,\n",
    "        'bid_price1': np.float32,\n",
    "        'ask_price1': np.float32,\n",
    "        'bid_price2': np.float32,\n",
    "        'ask_price2': np.float32,\n",
    "        'bid_size1': np.uint32,\n",
    "        'ask_size1': np.uint32,\n",
    "        'bid_size2': np.uint32,\n",
    "        'ask_size2': np.uint32,\n",
    "    }\n",
    "\n",
    "    df_book = pd.read_parquet(f'data/book_{dataset}.parquet/stock_id={stock_id}')\n",
    "    for column, dtype in book_dtypes.items():\n",
    "        df_book[column] = df_book[column].astype(dtype)\n",
    "    \n",
    "    if sort:\n",
    "        df_book.sort_values(by=['time_id', 'seconds_in_bucket'], inplace=True)\n",
    "        \n",
    "    if forward_fill:\n",
    "        df_book = df_book.set_index(['time_id', 'seconds_in_bucket'])\n",
    "        df_book = df_book.reindex(pd.MultiIndex.from_product([df_book.index.levels[0], np.arange(0, 600)], names=['time_id', 'seconds_in_bucket']), method='ffill')\n",
    "        df_book.reset_index(inplace=True)\n",
    "\n",
    "    return df_book"
   ],
   "outputs": [],
   "metadata": {}
  },
  {
   "cell_type": "code",
   "execution_count": null,
   "source": [],
   "outputs": [],
   "metadata": {}
  }
 ],
 "metadata": {
  "orig_nbformat": 4,
  "language_info": {
   "name": "python",
   "version": "3.9.6",
   "mimetype": "text/x-python",
   "codemirror_mode": {
    "name": "ipython",
    "version": 3
   },
   "pygments_lexer": "ipython3",
   "nbconvert_exporter": "python",
   "file_extension": ".py"
  },
  "kernelspec": {
   "name": "python3",
   "display_name": "Python 3.9.6 64-bit ('venv': venv)"
  },
  "interpreter": {
   "hash": "377410b2ba9df469234bd6844d6b90cef95175d2cd66e3643877be8dcce27c77"
  }
 },
 "nbformat": 4,
 "nbformat_minor": 2
}